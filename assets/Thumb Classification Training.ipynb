{
  "nbformat": 4,
  "nbformat_minor": 0,
  "metadata": {
    "colab": {
      "name": "Thumb Classification Training.ipynb",
      "provenance": [],
      "include_colab_link": true
    },
    "kernelspec": {
      "name": "python3",
      "display_name": "Python 3"
    },
    "accelerator": "GPU"
  },
  "cells": [
    {
      "cell_type": "markdown",
      "metadata": {
        "id": "view-in-github",
        "colab_type": "text"
      },
      "source": [
        "<a href=\"https://colab.research.google.com/github/Ishu1011/EmpAPI1/blob/master/assets/Thumb%20Classification%20Training.ipynb\" target=\"_parent\"><img src=\"https://colab.research.google.com/assets/colab-badge.svg\" alt=\"Open In Colab\"/></a>"
      ]
    },
    {
      "cell_type": "markdown",
      "metadata": {
        "id": "phTR4tsK1NKJ"
      },
      "source": [
        "# Training of the model for Thumb Classification\n",
        "\n",
        "The goal of this notebook is to train a classification model that can detect thumb up and thumb down in video stream\n",
        "\n",
        "This notebook has been run on Google Colab to take advantage of the GPU.\n"
      ]
    },
    {
      "cell_type": "code",
      "metadata": {
        "id": "lYPj1I1xeScY"
      },
      "source": [
        "import numpy as np\n",
        "import os\n",
        "import shutil\n",
        "from sklearn.model_selection import train_test_split\n",
        "from sklearn.metrics import classification_report, confusion_matrix\n",
        "\n",
        "import tensorflow as tf\n",
        "\n",
        "import keras\n",
        "from keras.preprocessing.image import ImageDataGenerator\n",
        "from keras import backend as K\n",
        "from keras.applications.vgg16 import VGG16\n",
        "from keras.applications.vgg16 import preprocess_input as preprocess_input_vgg\n",
        "from keras.layers import Dense, Dropout, Flatten\n",
        "from keras.models import Model\n",
        "from keras import optimizers\n",
        "from keras.models import load_model\n",
        "\n",
        "import seaborn as sns"
      ],
      "execution_count": 1,
      "outputs": []
    },
    {
      "cell_type": "markdown",
      "metadata": {
        "id": "xYHyHnW66OM-"
      },
      "source": [
        "Define the three classification category"
      ]
    },
    {
      "cell_type": "code",
      "metadata": {
        "id": "bDqwOq116Skb"
      },
      "source": [
        "NB_CLASSES = 3\n",
        "THUMB_UP = '01'\n",
        "THUMB_DOWN = '02'\n",
        "OTHER = '03'\n",
        "PATH_TO_ZIP = '/content/DSTI_Python_Labs/assets/data_train'\n",
        "ZIP_FILE = 'thumbv3.zip'\n",
        "IMAGES_RAW = 'images_raw_thumb'\n",
        "IMAGES_SPLITED = 'images_keras_thumb'\n",
        "MODEL_FILE = 'model_thumb_v24112020.h5'\n",
        "SAVE_FOLDER = 'save_model_thumb'"
      ],
      "execution_count": 2,
      "outputs": []
    },
    {
      "cell_type": "markdown",
      "metadata": {
        "id": "GoEbjHaeeScb"
      },
      "source": [
        "## Get the training data from the github repository"
      ]
    },
    {
      "cell_type": "code",
      "metadata": {
        "id": "6nikNsc0eScc",
        "colab": {
          "base_uri": "https://localhost:8080/"
        },
        "outputId": "fa966b5f-f802-4c52-9d8f-ba8b289227cd"
      },
      "source": [
        "!git clone https://github.com/EricKiennemann/DSTI_Python_Labs.git"
      ],
      "execution_count": 3,
      "outputs": [
        {
          "output_type": "stream",
          "name": "stdout",
          "text": [
            "Cloning into 'DSTI_Python_Labs'...\n",
            "remote: Enumerating objects: 468, done.\u001b[K\n",
            "remote: Counting objects: 100% (34/34), done.\u001b[K\n",
            "remote: Compressing objects: 100% (30/30), done.\u001b[K\n",
            "remote: Total 468 (delta 14), reused 17 (delta 4), pack-reused 434\u001b[K\n",
            "Receiving objects: 100% (468/468), 72.44 MiB | 25.48 MiB/s, done.\n",
            "Resolving deltas: 100% (181/181), done.\n",
            "Downloading config/tensorflow/weights_thumb_v1.h5 (159 MB)\n",
            "Error downloading object: config/tensorflow/weights_thumb_v1.h5 (12c8985): Smudge error: Error downloading config/tensorflow/weights_thumb_v1.h5 (12c898589755e636ea9a2694fbb48115d24ab2cf74bc41c45c10704317cc5f50): batch response: This repository is over its data quota. Account responsible for LFS bandwidth should purchase more data packs to restore access.\n",
            "\n",
            "Errors logged to /content/DSTI_Python_Labs/.git/lfs/logs/20240225T165113.146035755.log\n",
            "Use `git lfs logs last` to view the log.\n",
            "error: external filter 'git-lfs filter-process' failed\n",
            "fatal: config/tensorflow/weights_thumb_v1.h5: smudge filter lfs failed\n",
            "warning: Clone succeeded, but checkout failed.\n",
            "You can inspect what was checked out with 'git status'\n",
            "and retry with 'git restore --source=HEAD :/'\n",
            "\n"
          ]
        }
      ]
    },
    {
      "cell_type": "code",
      "metadata": {
        "colab": {
          "base_uri": "https://localhost:8080/"
        },
        "id": "GozDiP5wAvtb",
        "outputId": "9471c229-23b8-4799-99b8-27c88f1f014e"
      },
      "source": [
        "cd $PATH_TO_ZIP"
      ],
      "execution_count": 4,
      "outputs": [
        {
          "output_type": "stream",
          "name": "stdout",
          "text": [
            "/content/DSTI_Python_Labs/assets/data_train\n"
          ]
        }
      ]
    },
    {
      "cell_type": "code",
      "metadata": {
        "id": "2_9aeJdOTkqY"
      },
      "source": [
        "!mkdir $IMAGES_RAW"
      ],
      "execution_count": 5,
      "outputs": []
    },
    {
      "cell_type": "markdown",
      "metadata": {
        "id": "dwmsY_QL4sWz"
      },
      "source": [
        "**Unzip the file training data file locally locally**"
      ]
    },
    {
      "cell_type": "code",
      "metadata": {
        "id": "BUwZi1q0mUhY"
      },
      "source": [
        "import zipfile\n",
        "with zipfile.ZipFile(ZIP_FILE, 'r') as zip_ref:\n",
        "    zip_ref.extractall(IMAGES_RAW)"
      ],
      "execution_count": 6,
      "outputs": []
    },
    {
      "cell_type": "code",
      "metadata": {
        "id": "iMVMAcL1UKSC",
        "colab": {
          "base_uri": "https://localhost:8080/"
        },
        "outputId": "9bdaef3c-68db-4b5b-9a83-ffd1350d0a91"
      },
      "source": [
        "!ls $IMAGES_RAW"
      ],
      "execution_count": 7,
      "outputs": [
        {
          "output_type": "stream",
          "name": "stdout",
          "text": [
            "01  02\t03\n"
          ]
        }
      ]
    },
    {
      "cell_type": "markdown",
      "metadata": {
        "id": "Gj5Iz1LFeScf"
      },
      "source": [
        "## Prepare the files for the processing\n",
        "\n",
        "Split the files into three datasets (folders) :\n",
        "* \"train\" for training\n",
        "* \"valid\" for validation\n",
        "* \"test\" for test"
      ]
    },
    {
      "cell_type": "code",
      "metadata": {
        "id": "NNeBPS30eScg",
        "colab": {
          "base_uri": "https://localhost:8080/"
        },
        "outputId": "50386578-fe3d-4dc1-9221-73019a355ca1"
      },
      "source": [
        "def TrainValidTestFruit(category):\n",
        "\t# Path to the directory where the original dataset was uncompressed\n",
        "\toriginal_dataset_dir = IMAGES_RAW\n",
        "\n",
        "\t# Directory where the three datasets will be stored\n",
        "\tbase_dir = IMAGES_SPLITED\n",
        "\n",
        "\tos.mkdir(base_dir)\n",
        "\n",
        "\t# Directory for the training splits\n",
        "\ttrain_dir = os.path.join(base_dir, 'train')\n",
        "\tos.mkdir(train_dir)\n",
        "\n",
        "\t# Directory for the validation splits\n",
        "\tvalid_dir = os.path.join(base_dir, 'valid')\n",
        "\tos.mkdir(valid_dir)\n",
        "\n",
        "\t# Directory for the test splits\n",
        "\ttest_dir = os.path.join(base_dir, 'test')\n",
        "\tos.mkdir(test_dir)\n",
        "\n",
        "\tfor cat in category:\n",
        "\t\t# Directories for training categories\n",
        "\t\ttrain_category_dir = os.path.join(train_dir, cat)\n",
        "\t\tos.mkdir(train_category_dir)\n",
        "\n",
        "\t\t# Directories for validation categories\n",
        "\t\tvalid_category_dir = os.path.join(valid_dir, cat)\n",
        "\t\tos.mkdir(valid_category_dir)\n",
        "\n",
        "\t\t# Directories for test categories\n",
        "\t\ttest_category_dir = os.path.join(test_dir, cat)\n",
        "\t\tos.mkdir(test_category_dir)\n",
        "\n",
        "\t\tdata_folder = os.path.join(original_dataset_dir, cat)\n",
        "\t\tjpgfiles = os.listdir(data_folder)\n",
        "\n",
        "\t\tnb_images = len(jpgfiles)\n",
        "\t\ttrain_ratio = 0.75\t\t\t\t# 75% of files for training\n",
        "\t\tvalidation_ratio = 0.15\t\t# 15% of files for validation\n",
        "\t\ttest_ratio = 0.10\t\t\t\t\t# 10% of files for test\n",
        "\n",
        "\t\tdataX = np.arange(nb_images)\n",
        "\t\t# train is now 75% of the entire data set\n",
        "\t\tx_train, x_test = train_test_split(dataX, test_size=1 - train_ratio)\n",
        "\n",
        "\t\t# test is now 10% of the initial data set\n",
        "\t\t# validation is now 15% of the initial data set\n",
        "\t\tx_valid, x_test = train_test_split(x_test, test_size=test_ratio/(test_ratio + validation_ratio))\n",
        "\n",
        "\t\t# Copy the train files\n",
        "\t\tfnames = [jpgfiles[i] for i in x_train]\n",
        "\t\tfor fname in fnames:\n",
        "\t\t\tsrc = os.path.join(original_dataset_dir, cat, fname)\n",
        "\t\t\tdst = os.path.join(train_category_dir, fname)\n",
        "\t\t\tshutil.copyfile(src, dst)\n",
        "\n",
        "\t\t# Copy the validation files\n",
        "\t\tfnames = [jpgfiles[i] for i in x_valid]\n",
        "\t\tfor fname in fnames:\n",
        "\t\t\tsrc = os.path.join(original_dataset_dir, cat, fname)\n",
        "\t\t\tdst = os.path.join(valid_category_dir, fname)\n",
        "\t\t\tshutil.copyfile(src, dst)\n",
        "\n",
        "\t\t# Copy the test files\n",
        "\t\tfnames = [jpgfiles[i] for i in x_test]\n",
        "\t\tfor fname in fnames:\n",
        "\t\t\tsrc = os.path.join(original_dataset_dir, cat, fname)\n",
        "\t\t\tdst = os.path.join(test_category_dir, fname)\n",
        "\t\t\tshutil.copyfile(src, dst)\n",
        "\n",
        "\n",
        "\t\t# Sanity Check to ensure that Training, Validation and Test Folders have the expected number of images\n",
        "\n",
        "\t\tprint('Number of Images in Training Directory is {} for category {}'.format(len(os.listdir(train_category_dir)),cat))\n",
        "\t\tprint('Number of Images in Validation Directory is {} for category {}'.format(len(os.listdir(valid_category_dir)),cat))\n",
        "\t\tprint('Number of Images in Test Directory is {} for category {}'.format(len(os.listdir(test_category_dir)),cat))\n",
        "\n",
        "# Run the creation of the three datasets on our three labels\n",
        "TrainValidTestFruit([THUMB_UP,THUMB_DOWN,OTHER])"
      ],
      "execution_count": 8,
      "outputs": [
        {
          "output_type": "stream",
          "name": "stdout",
          "text": [
            "Number of Images in Training Directory is 517 for category 01\n",
            "Number of Images in Validation Directory is 103 for category 01\n",
            "Number of Images in Test Directory is 70 for category 01\n",
            "Number of Images in Training Directory is 593 for category 02\n",
            "Number of Images in Validation Directory is 118 for category 02\n",
            "Number of Images in Test Directory is 80 for category 02\n",
            "Number of Images in Training Directory is 260 for category 03\n",
            "Number of Images in Validation Directory is 52 for category 03\n",
            "Number of Images in Test Directory is 35 for category 03\n"
          ]
        }
      ]
    },
    {
      "cell_type": "markdown",
      "metadata": {
        "id": "2iA1o5iRZ3Xj"
      },
      "source": [
        "The dataset is quit well balanced between 'thumb up' 517 images and 'thumb down' 593 images for training"
      ]
    },
    {
      "cell_type": "markdown",
      "metadata": {
        "id": "BTbCJ3LGeScn"
      },
      "source": [
        "## Building the Neural Network\n",
        "\n",
        "We'll be using VGG16 model and the corresponding preprocessing function for the input images."
      ]
    },
    {
      "cell_type": "code",
      "metadata": {
        "id": "gxEOSC_keScq",
        "colab": {
          "base_uri": "https://localhost:8080/"
        },
        "outputId": "c0f68d6c-d553-4838-e966-77efd2400d44"
      },
      "source": [
        "# include_top=false => we only take the convolutional part not the classification part.\n",
        "# The image standard size is (224,224)\n",
        "base_model = VGG16(include_top=False, weights='imagenet', input_shape = (224,224,3))\n",
        "base_model.summary()"
      ],
      "execution_count": 9,
      "outputs": [
        {
          "output_type": "stream",
          "name": "stdout",
          "text": [
            "Downloading data from https://storage.googleapis.com/tensorflow/keras-applications/vgg16/vgg16_weights_tf_dim_ordering_tf_kernels_notop.h5\n",
            "58889256/58889256 [==============================] - 2s 0us/step\n",
            "Model: \"vgg16\"\n",
            "_________________________________________________________________\n",
            " Layer (type)                Output Shape              Param #   \n",
            "=================================================================\n",
            " input_1 (InputLayer)        [(None, 224, 224, 3)]     0         \n",
            "                                                                 \n",
            " block1_conv1 (Conv2D)       (None, 224, 224, 64)      1792      \n",
            "                                                                 \n",
            " block1_conv2 (Conv2D)       (None, 224, 224, 64)      36928     \n",
            "                                                                 \n",
            " block1_pool (MaxPooling2D)  (None, 112, 112, 64)      0         \n",
            "                                                                 \n",
            " block2_conv1 (Conv2D)       (None, 112, 112, 128)     73856     \n",
            "                                                                 \n",
            " block2_conv2 (Conv2D)       (None, 112, 112, 128)     147584    \n",
            "                                                                 \n",
            " block2_pool (MaxPooling2D)  (None, 56, 56, 128)       0         \n",
            "                                                                 \n",
            " block3_conv1 (Conv2D)       (None, 56, 56, 256)       295168    \n",
            "                                                                 \n",
            " block3_conv2 (Conv2D)       (None, 56, 56, 256)       590080    \n",
            "                                                                 \n",
            " block3_conv3 (Conv2D)       (None, 56, 56, 256)       590080    \n",
            "                                                                 \n",
            " block3_pool (MaxPooling2D)  (None, 28, 28, 256)       0         \n",
            "                                                                 \n",
            " block4_conv1 (Conv2D)       (None, 28, 28, 512)       1180160   \n",
            "                                                                 \n",
            " block4_conv2 (Conv2D)       (None, 28, 28, 512)       2359808   \n",
            "                                                                 \n",
            " block4_conv3 (Conv2D)       (None, 28, 28, 512)       2359808   \n",
            "                                                                 \n",
            " block4_pool (MaxPooling2D)  (None, 14, 14, 512)       0         \n",
            "                                                                 \n",
            " block5_conv1 (Conv2D)       (None, 14, 14, 512)       2359808   \n",
            "                                                                 \n",
            " block5_conv2 (Conv2D)       (None, 14, 14, 512)       2359808   \n",
            "                                                                 \n",
            " block5_conv3 (Conv2D)       (None, 14, 14, 512)       2359808   \n",
            "                                                                 \n",
            " block5_pool (MaxPooling2D)  (None, 7, 7, 512)         0         \n",
            "                                                                 \n",
            "=================================================================\n",
            "Total params: 14714688 (56.13 MB)\n",
            "Trainable params: 14714688 (56.13 MB)\n",
            "Non-trainable params: 0 (0.00 Byte)\n",
            "_________________________________________________________________\n"
          ]
        }
      ]
    },
    {
      "cell_type": "markdown",
      "metadata": {
        "id": "i3RonFg9eScs"
      },
      "source": [
        "Note that we have downloaded only a convolution part of the neural network. Let's add some dense layers on top of it.  \n",
        "I choose a sigmoid activation in order to be able to dect more easelly when there is \"nothing\" in the screen. If the probability for both 'thumb up' and 'thumb down' are low it is likely that there is no thumb on the screen"
      ]
    },
    {
      "cell_type": "code",
      "metadata": {
        "id": "KCIKc-S_eScv"
      },
      "source": [
        "flatten = Flatten()(base_model.output)\n",
        "dropout_1 = Dropout(0.25)(flatten)\n",
        "fc_1 = Dense(128)(dropout_1)\n",
        "dropout_2 = Dropout(0.5)(fc_1)\n",
        "predictions = Dense(NB_CLASSES, activation=\"sigmoid\", name='predictions')(dropout_2)"
      ],
      "execution_count": 10,
      "outputs": []
    },
    {
      "cell_type": "code",
      "metadata": {
        "id": "RrKIyWb8eScx"
      },
      "source": [
        "model = Model(base_model.input, predictions)"
      ],
      "execution_count": 11,
      "outputs": []
    },
    {
      "cell_type": "markdown",
      "metadata": {
        "id": "gh-3rJpkUMQR"
      },
      "source": [
        "**The final model structure**"
      ]
    },
    {
      "cell_type": "code",
      "metadata": {
        "id": "N54508MveScz",
        "colab": {
          "base_uri": "https://localhost:8080/"
        },
        "outputId": "f404d138-c6a3-4b1e-fb0e-43d4154a777f"
      },
      "source": [
        "model.summary()"
      ],
      "execution_count": 12,
      "outputs": [
        {
          "output_type": "stream",
          "name": "stdout",
          "text": [
            "Model: \"model\"\n",
            "_________________________________________________________________\n",
            " Layer (type)                Output Shape              Param #   \n",
            "=================================================================\n",
            " input_1 (InputLayer)        [(None, 224, 224, 3)]     0         \n",
            "                                                                 \n",
            " block1_conv1 (Conv2D)       (None, 224, 224, 64)      1792      \n",
            "                                                                 \n",
            " block1_conv2 (Conv2D)       (None, 224, 224, 64)      36928     \n",
            "                                                                 \n",
            " block1_pool (MaxPooling2D)  (None, 112, 112, 64)      0         \n",
            "                                                                 \n",
            " block2_conv1 (Conv2D)       (None, 112, 112, 128)     73856     \n",
            "                                                                 \n",
            " block2_conv2 (Conv2D)       (None, 112, 112, 128)     147584    \n",
            "                                                                 \n",
            " block2_pool (MaxPooling2D)  (None, 56, 56, 128)       0         \n",
            "                                                                 \n",
            " block3_conv1 (Conv2D)       (None, 56, 56, 256)       295168    \n",
            "                                                                 \n",
            " block3_conv2 (Conv2D)       (None, 56, 56, 256)       590080    \n",
            "                                                                 \n",
            " block3_conv3 (Conv2D)       (None, 56, 56, 256)       590080    \n",
            "                                                                 \n",
            " block3_pool (MaxPooling2D)  (None, 28, 28, 256)       0         \n",
            "                                                                 \n",
            " block4_conv1 (Conv2D)       (None, 28, 28, 512)       1180160   \n",
            "                                                                 \n",
            " block4_conv2 (Conv2D)       (None, 28, 28, 512)       2359808   \n",
            "                                                                 \n",
            " block4_conv3 (Conv2D)       (None, 28, 28, 512)       2359808   \n",
            "                                                                 \n",
            " block4_pool (MaxPooling2D)  (None, 14, 14, 512)       0         \n",
            "                                                                 \n",
            " block5_conv1 (Conv2D)       (None, 14, 14, 512)       2359808   \n",
            "                                                                 \n",
            " block5_conv2 (Conv2D)       (None, 14, 14, 512)       2359808   \n",
            "                                                                 \n",
            " block5_conv3 (Conv2D)       (None, 14, 14, 512)       2359808   \n",
            "                                                                 \n",
            " block5_pool (MaxPooling2D)  (None, 7, 7, 512)         0         \n",
            "                                                                 \n",
            " flatten (Flatten)           (None, 25088)             0         \n",
            "                                                                 \n",
            " dropout (Dropout)           (None, 25088)             0         \n",
            "                                                                 \n",
            " dense (Dense)               (None, 128)               3211392   \n",
            "                                                                 \n",
            " dropout_1 (Dropout)         (None, 128)               0         \n",
            "                                                                 \n",
            " predictions (Dense)         (None, 3)                 387       \n",
            "                                                                 \n",
            "=================================================================\n",
            "Total params: 17926467 (68.38 MB)\n",
            "Trainable params: 17926467 (68.38 MB)\n",
            "Non-trainable params: 0 (0.00 Byte)\n",
            "_________________________________________________________________\n"
          ]
        }
      ]
    },
    {
      "cell_type": "markdown",
      "metadata": {
        "id": "4jIlvemneSc2"
      },
      "source": [
        "**Chosing the optimizer parameters and compiling the model**  \n",
        "Categorical crossentropy is choosen for this multi label classification problem"
      ]
    },
    {
      "cell_type": "code",
      "metadata": {
        "id": "rlN5Q7OveSc5"
      },
      "source": [
        "loss = 'categorical_crossentropy'\n",
        "learning_rate = 0.001\n",
        "optimizer = optimizers.SGD ## optimizers.SGD\n",
        "metrics = ['accuracy']"
      ],
      "execution_count": 13,
      "outputs": []
    },
    {
      "cell_type": "code",
      "metadata": {
        "id": "3NAfP8ULeSc7"
      },
      "source": [
        "model.compile(loss=loss,\n",
        "              optimizer=optimizer(learning_rate),\n",
        "              metrics=metrics)\n"
      ],
      "execution_count": 14,
      "outputs": []
    },
    {
      "cell_type": "markdown",
      "metadata": {
        "id": "vsMwxsnIeSc9"
      },
      "source": [
        "## Data preparation\n",
        "We will do data augmentation in order to have more data for the training.\n",
        "We apply :\n",
        "* rotation\n",
        "* width shift\n",
        "* height shift\n"
      ]
    },
    {
      "cell_type": "code",
      "metadata": {
        "id": "LNsJQ1mteSc_"
      },
      "source": [
        "train_dir = os.path.join(IMAGES_SPLITED, \"train\")\n",
        "val_dir = os.path.join(IMAGES_SPLITED, \"valid\")\n",
        "test_dir = os.path.join(IMAGES_SPLITED, \"test\")"
      ],
      "execution_count": 15,
      "outputs": []
    },
    {
      "cell_type": "code",
      "metadata": {
        "id": "wj8qfSmFeSdC"
      },
      "source": [
        "# we'll resize images in correspondance to network input size\n",
        "image_size = (224,224)"
      ],
      "execution_count": 16,
      "outputs": []
    },
    {
      "cell_type": "code",
      "metadata": {
        "id": "7NWtfjX4eSdE",
        "colab": {
          "base_uri": "https://localhost:8080/"
        },
        "outputId": "dd1d60c3-438c-42a2-9401-ce28766b61ed"
      },
      "source": [
        "# apply some data augmentation\n",
        "#\n",
        "train_datagen = ImageDataGenerator(rotation_range=15,\n",
        "                                   width_shift_range=0.2,\n",
        "                                   height_shift_range=0.2,\n",
        "                                   fill_mode='nearest',\n",
        "                                   preprocessing_function=preprocess_input_vgg\n",
        "                                  )\n",
        "\n",
        "validation_datagen = ImageDataGenerator(preprocessing_function=preprocess_input_vgg) # for validation we don't need to augment\n",
        "\n",
        "train_batchsize = 40\n",
        "val_batchsize = 40\n",
        "\n",
        "# this function takes images from folders and feeds to Imagedatagenerator\n",
        "train_generator = train_datagen.flow_from_directory(\n",
        "        train_dir,\n",
        "        target_size=image_size,\n",
        "        batch_size=train_batchsize,\n",
        "        class_mode='categorical')\n",
        "\n",
        "validation_generator = validation_datagen.flow_from_directory(\n",
        "        val_dir,\n",
        "        target_size=image_size,\n",
        "        batch_size=val_batchsize,\n",
        "        class_mode='categorical',\n",
        "        shuffle=False)"
      ],
      "execution_count": 17,
      "outputs": [
        {
          "output_type": "stream",
          "name": "stdout",
          "text": [
            "Found 1370 images belonging to 3 classes.\n",
            "Found 273 images belonging to 3 classes.\n"
          ]
        }
      ]
    },
    {
      "cell_type": "markdown",
      "metadata": {
        "id": "u4kh8Im0Zg9M"
      },
      "source": [
        "**The data generation is only applied to the train dataset**\n",
        "\n",
        "We do have 1370 images for training (without data augmentation) and 273 images for validation"
      ]
    },
    {
      "cell_type": "markdown",
      "metadata": {
        "id": "1svgQ-iHeSdI"
      },
      "source": [
        "## Model training\n",
        "\n",
        "Starting with a number of epoch equal to 100"
      ]
    },
    {
      "cell_type": "code",
      "metadata": {
        "id": "rANG4-YdeSdI"
      },
      "source": [
        "epochs = 60"
      ],
      "execution_count": 18,
      "outputs": []
    },
    {
      "cell_type": "code",
      "metadata": {
        "id": "B8sDL64PeSdL"
      },
      "source": [
        "nb_train_steps = train_generator.samples // train_generator.batch_size\n",
        "nb_val_steps = validation_generator.samples // validation_generator.batch_size"
      ],
      "execution_count": 19,
      "outputs": []
    },
    {
      "cell_type": "code",
      "metadata": {
        "id": "F631Er62eSdR",
        "colab": {
          "base_uri": "https://localhost:8080/"
        },
        "outputId": "a4b0429e-f7c2-4b33-f107-4fc86bdf4edf"
      },
      "source": [
        "history = model.fit_generator(\n",
        "      train_generator,\n",
        "      steps_per_epoch=nb_train_steps,\n",
        "      epochs=epochs,\n",
        "      validation_data=validation_generator,\n",
        "      validation_steps=nb_val_steps,\n",
        "      verbose=1, #0\n",
        ")"
      ],
      "execution_count": 20,
      "outputs": [
        {
          "output_type": "stream",
          "name": "stderr",
          "text": [
            "<ipython-input-20-ba9885158e4d>:1: UserWarning: `Model.fit_generator` is deprecated and will be removed in a future version. Please use `Model.fit`, which supports generators.\n",
            "  history = model.fit_generator(\n"
          ]
        },
        {
          "output_type": "stream",
          "name": "stdout",
          "text": [
            "Epoch 1/60\n",
            "34/34 [==============================] - 61s 915ms/step - loss: nan - accuracy: 0.3759 - val_loss: nan - val_accuracy: 0.4292\n",
            "Epoch 2/60\n",
            "34/34 [==============================] - 24s 705ms/step - loss: nan - accuracy: 0.3729 - val_loss: nan - val_accuracy: 0.4292\n",
            "Epoch 3/60\n",
            "34/34 [==============================] - 24s 698ms/step - loss: nan - accuracy: 0.3767 - val_loss: nan - val_accuracy: 0.4292\n",
            "Epoch 4/60\n",
            "34/34 [==============================] - 24s 703ms/step - loss: nan - accuracy: 0.3767 - val_loss: nan - val_accuracy: 0.4292\n",
            "Epoch 5/60\n",
            "34/34 [==============================] - 25s 718ms/step - loss: nan - accuracy: 0.3759 - val_loss: nan - val_accuracy: 0.4292\n",
            "Epoch 6/60\n",
            "34/34 [==============================] - 25s 731ms/step - loss: nan - accuracy: 0.3782 - val_loss: nan - val_accuracy: 0.4292\n",
            "Epoch 7/60\n",
            "34/34 [==============================] - 24s 700ms/step - loss: nan - accuracy: 0.3767 - val_loss: nan - val_accuracy: 0.4292\n",
            "Epoch 8/60\n",
            "34/34 [==============================] - 25s 715ms/step - loss: nan - accuracy: 0.3744 - val_loss: nan - val_accuracy: 0.4292\n",
            "Epoch 9/60\n",
            "34/34 [==============================] - 24s 710ms/step - loss: nan - accuracy: 0.3774 - val_loss: nan - val_accuracy: 0.4292\n",
            "Epoch 10/60\n",
            "34/34 [==============================] - 24s 703ms/step - loss: nan - accuracy: 0.3744 - val_loss: nan - val_accuracy: 0.4292\n",
            "Epoch 11/60\n",
            "34/34 [==============================] - 25s 713ms/step - loss: nan - accuracy: 0.3797 - val_loss: nan - val_accuracy: 0.4292\n",
            "Epoch 12/60\n",
            "34/34 [==============================] - 24s 711ms/step - loss: nan - accuracy: 0.3744 - val_loss: nan - val_accuracy: 0.4292\n",
            "Epoch 13/60\n",
            "34/34 [==============================] - 24s 708ms/step - loss: nan - accuracy: 0.3759 - val_loss: nan - val_accuracy: 0.4292\n",
            "Epoch 14/60\n",
            "34/34 [==============================] - 25s 726ms/step - loss: nan - accuracy: 0.3772 - val_loss: nan - val_accuracy: 0.4292\n",
            "Epoch 15/60\n",
            "34/34 [==============================] - 25s 716ms/step - loss: nan - accuracy: 0.3767 - val_loss: nan - val_accuracy: 0.4292\n",
            "Epoch 16/60\n",
            "34/34 [==============================] - 25s 735ms/step - loss: nan - accuracy: 0.3789 - val_loss: nan - val_accuracy: 0.4292\n",
            "Epoch 17/60\n",
            "34/34 [==============================] - 25s 725ms/step - loss: nan - accuracy: 0.3782 - val_loss: nan - val_accuracy: 0.4292\n",
            "Epoch 18/60\n",
            "34/34 [==============================] - 24s 701ms/step - loss: nan - accuracy: 0.3767 - val_loss: nan - val_accuracy: 0.4292\n",
            "Epoch 19/60\n",
            "34/34 [==============================] - 25s 731ms/step - loss: nan - accuracy: 0.3789 - val_loss: nan - val_accuracy: 0.4292\n",
            "Epoch 20/60\n",
            "34/34 [==============================] - 25s 729ms/step - loss: nan - accuracy: 0.3767 - val_loss: nan - val_accuracy: 0.4292\n",
            "Epoch 21/60\n",
            "34/34 [==============================] - 25s 721ms/step - loss: nan - accuracy: 0.3707 - val_loss: nan - val_accuracy: 0.4292\n",
            "Epoch 22/60\n",
            "34/34 [==============================] - 24s 689ms/step - loss: nan - accuracy: 0.3774 - val_loss: nan - val_accuracy: 0.4292\n",
            "Epoch 23/60\n",
            "34/34 [==============================] - 24s 687ms/step - loss: nan - accuracy: 0.3759 - val_loss: nan - val_accuracy: 0.4292\n",
            "Epoch 24/60\n",
            "34/34 [==============================] - 24s 686ms/step - loss: nan - accuracy: 0.3782 - val_loss: nan - val_accuracy: 0.4292\n",
            "Epoch 25/60\n",
            "34/34 [==============================] - 24s 706ms/step - loss: nan - accuracy: 0.3782 - val_loss: nan - val_accuracy: 0.4292\n",
            "Epoch 26/60\n",
            "34/34 [==============================] - 24s 707ms/step - loss: nan - accuracy: 0.3782 - val_loss: nan - val_accuracy: 0.4292\n",
            "Epoch 27/60\n",
            "34/34 [==============================] - 24s 710ms/step - loss: nan - accuracy: 0.3767 - val_loss: nan - val_accuracy: 0.4292\n",
            "Epoch 28/60\n",
            "34/34 [==============================] - 24s 711ms/step - loss: nan - accuracy: 0.3797 - val_loss: nan - val_accuracy: 0.4292\n",
            "Epoch 29/60\n",
            "34/34 [==============================] - 24s 694ms/step - loss: nan - accuracy: 0.3789 - val_loss: nan - val_accuracy: 0.4292\n",
            "Epoch 30/60\n",
            "34/34 [==============================] - 24s 684ms/step - loss: nan - accuracy: 0.3805 - val_loss: nan - val_accuracy: 0.4292\n",
            "Epoch 31/60\n",
            "34/34 [==============================] - 24s 697ms/step - loss: nan - accuracy: 0.3744 - val_loss: nan - val_accuracy: 0.4292\n",
            "Epoch 32/60\n",
            "34/34 [==============================] - 25s 706ms/step - loss: nan - accuracy: 0.3774 - val_loss: nan - val_accuracy: 0.4292\n",
            "Epoch 33/60\n",
            "34/34 [==============================] - 24s 701ms/step - loss: nan - accuracy: 0.3782 - val_loss: nan - val_accuracy: 0.4292\n",
            "Epoch 34/60\n",
            "34/34 [==============================] - 25s 729ms/step - loss: nan - accuracy: 0.3774 - val_loss: nan - val_accuracy: 0.4292\n",
            "Epoch 35/60\n",
            "34/34 [==============================] - 25s 714ms/step - loss: nan - accuracy: 0.3774 - val_loss: nan - val_accuracy: 0.4292\n",
            "Epoch 36/60\n",
            "34/34 [==============================] - 24s 710ms/step - loss: nan - accuracy: 0.3767 - val_loss: nan - val_accuracy: 0.4292\n",
            "Epoch 37/60\n",
            "34/34 [==============================] - 24s 696ms/step - loss: nan - accuracy: 0.3774 - val_loss: nan - val_accuracy: 0.4292\n",
            "Epoch 38/60\n",
            "34/34 [==============================] - 24s 707ms/step - loss: nan - accuracy: 0.3767 - val_loss: nan - val_accuracy: 0.4292\n",
            "Epoch 39/60\n",
            "34/34 [==============================] - 25s 710ms/step - loss: nan - accuracy: 0.3729 - val_loss: nan - val_accuracy: 0.4292\n",
            "Epoch 40/60\n",
            "34/34 [==============================] - 26s 758ms/step - loss: nan - accuracy: 0.3714 - val_loss: nan - val_accuracy: 0.4292\n",
            "Epoch 41/60\n",
            "34/34 [==============================] - 25s 731ms/step - loss: nan - accuracy: 0.3767 - val_loss: nan - val_accuracy: 0.4292\n",
            "Epoch 42/60\n",
            "34/34 [==============================] - 25s 723ms/step - loss: nan - accuracy: 0.3812 - val_loss: nan - val_accuracy: 0.4292\n",
            "Epoch 43/60\n",
            "34/34 [==============================] - 25s 716ms/step - loss: nan - accuracy: 0.3759 - val_loss: nan - val_accuracy: 0.4292\n",
            "Epoch 44/60\n",
            "34/34 [==============================] - 26s 740ms/step - loss: nan - accuracy: 0.3797 - val_loss: nan - val_accuracy: 0.4292\n",
            "Epoch 45/60\n",
            "34/34 [==============================] - 26s 749ms/step - loss: nan - accuracy: 0.3757 - val_loss: nan - val_accuracy: 0.4292\n",
            "Epoch 46/60\n",
            "34/34 [==============================] - 25s 732ms/step - loss: nan - accuracy: 0.3752 - val_loss: nan - val_accuracy: 0.4292\n",
            "Epoch 47/60\n",
            "34/34 [==============================] - 24s 692ms/step - loss: nan - accuracy: 0.3744 - val_loss: nan - val_accuracy: 0.4292\n",
            "Epoch 48/60\n",
            "34/34 [==============================] - 24s 688ms/step - loss: nan - accuracy: 0.3774 - val_loss: nan - val_accuracy: 0.4292\n",
            "Epoch 49/60\n",
            "34/34 [==============================] - 25s 719ms/step - loss: nan - accuracy: 0.3805 - val_loss: nan - val_accuracy: 0.4292\n",
            "Epoch 50/60\n",
            "34/34 [==============================] - 25s 721ms/step - loss: nan - accuracy: 0.3759 - val_loss: nan - val_accuracy: 0.4292\n",
            "Epoch 51/60\n",
            "34/34 [==============================] - 25s 721ms/step - loss: nan - accuracy: 0.3767 - val_loss: nan - val_accuracy: 0.4292\n",
            "Epoch 52/60\n",
            "34/34 [==============================] - 25s 718ms/step - loss: nan - accuracy: 0.3782 - val_loss: nan - val_accuracy: 0.4292\n",
            "Epoch 53/60\n",
            "34/34 [==============================] - 24s 705ms/step - loss: nan - accuracy: 0.3729 - val_loss: nan - val_accuracy: 0.4292\n",
            "Epoch 54/60\n",
            "34/34 [==============================] - 24s 726ms/step - loss: nan - accuracy: 0.3789 - val_loss: nan - val_accuracy: 0.4292\n",
            "Epoch 55/60\n",
            "34/34 [==============================] - 24s 695ms/step - loss: nan - accuracy: 0.3774 - val_loss: nan - val_accuracy: 0.4292\n",
            "Epoch 56/60\n",
            "34/34 [==============================] - 24s 707ms/step - loss: nan - accuracy: 0.3752 - val_loss: nan - val_accuracy: 0.4292\n",
            "Epoch 57/60\n",
            "34/34 [==============================] - 24s 703ms/step - loss: nan - accuracy: 0.3782 - val_loss: nan - val_accuracy: 0.4292\n",
            "Epoch 58/60\n",
            "34/34 [==============================] - 24s 694ms/step - loss: nan - accuracy: 0.3820 - val_loss: nan - val_accuracy: 0.4292\n",
            "Epoch 59/60\n",
            "34/34 [==============================] - 24s 699ms/step - loss: nan - accuracy: 0.3782 - val_loss: nan - val_accuracy: 0.4292\n",
            "Epoch 60/60\n",
            "34/34 [==============================] - 24s 702ms/step - loss: nan - accuracy: 0.3767 - val_loss: nan - val_accuracy: 0.4292\n"
          ]
        }
      ]
    },
    {
      "cell_type": "markdown",
      "metadata": {
        "id": "qJMbTdPjkFw4"
      },
      "source": [
        "**The accuracy for training and validation dataset are good**"
      ]
    },
    {
      "cell_type": "code",
      "metadata": {
        "id": "QbCByQ09eSdT",
        "colab": {
          "base_uri": "https://localhost:8080/"
        },
        "outputId": "7999daa5-958f-4703-dba9-6de1b4eadf9f"
      },
      "source": [
        "print('training acc.:',history.history['accuracy'][-1])\n",
        "print('val acc.:', (history.history['val_accuracy'])[-1])"
      ],
      "execution_count": 21,
      "outputs": [
        {
          "output_type": "stream",
          "name": "stdout",
          "text": [
            "training acc.: 0.3766917288303375\n",
            "val acc.: 0.42916667461395264\n"
          ]
        }
      ]
    },
    {
      "cell_type": "code",
      "metadata": {
        "id": "xUbDqvBgeSdW"
      },
      "source": [
        "import matplotlib.pyplot as plt\n",
        "%matplotlib inline\n",
        "def plot_history(history):\n",
        "    plt.figure(figsize=(12,6))\n",
        "    plt.subplot(1,2,1)\n",
        "    plt.xlabel('Epoch')\n",
        "    plt.ylabel('Accuracy %')\n",
        "    plt.plot(history.epoch, np.array(history.history['accuracy']),\n",
        "    label='Train Accuracy')\n",
        "    plt.plot(history.epoch, np.array(history.history['val_accuracy']),\n",
        "    label = 'Val Accuracy')\n",
        "    plt.legend()\n",
        "    plt.title('Accuracy for train and validation')\n",
        "    plt.ylim([0, 1.1])\n",
        "    plt.subplot(1,2,2)\n",
        "    plt.xlabel('Epoch')\n",
        "    plt.ylabel('loss')\n",
        "    plt.plot(history.epoch, np.array(history.history['loss']),\n",
        "    label='Train Loss')\n",
        "    plt.plot(history.epoch, np.array(history.history['val_loss']),\n",
        "    label = 'Validation Loss')\n",
        "    plt.legend()\n",
        "    plt.title('Loss for train and validation')\n",
        "    plt.show()"
      ],
      "execution_count": 22,
      "outputs": []
    },
    {
      "cell_type": "code",
      "metadata": {
        "id": "U_uEY2IYeSdY",
        "colab": {
          "base_uri": "https://localhost:8080/",
          "height": 564
        },
        "outputId": "69f7ba4e-d1e3-45eb-b2c5-cda519f49e15"
      },
      "source": [
        "plot_history(history)"
      ],
      "execution_count": 23,
      "outputs": [
        {
          "output_type": "display_data",
          "data": {
            "text/plain": [
              "<Figure size 1200x600 with 2 Axes>"
            ],
            "image/png": "[encoded data removed]"
          },
          "metadata": {}
        }
      ]
    },
    {
      "cell_type": "markdown",
      "metadata": {
        "id": "mDHG_-PReSda"
      },
      "source": [
        "## Saving model\n",
        "\n",
        "The model is saved to be used in the back end part of the web application"
      ]
    },
    {
      "cell_type": "code",
      "metadata": {
        "id": "rJwoycSceSdb"
      },
      "source": [
        "os.makedirs(SAVE_FOLDER, exist_ok=True)"
      ],
      "execution_count": 24,
      "outputs": []
    },
    {
      "cell_type": "code",
      "metadata": {
        "id": "zTxpe7VqeSde"
      },
      "source": [
        "model_path = os.path.join(SAVE_FOLDER, MODEL_FILE)"
      ],
      "execution_count": 25,
      "outputs": []
    },
    {
      "cell_type": "code",
      "metadata": {
        "id": "BA-0riSMeSdh",
        "outputId": "4ba88f1d-cd98-4493-c46f-d62f35c92597",
        "colab": {
          "base_uri": "https://localhost:8080/"
        }
      },
      "source": [
        "model.save(model_path)"
      ],
      "execution_count": 26,
      "outputs": [
        {
          "output_type": "stream",
          "name": "stderr",
          "text": [
            "/usr/local/lib/python3.10/dist-packages/keras/src/engine/training.py:3103: UserWarning: You are saving your model as an HDF5 file via `model.save()`. This file format is considered legacy. We recommend using instead the native Keras format, e.g. `model.save('my_model.keras')`.\n",
            "  saving_api.save_model(\n"
          ]
        }
      ]
    },
    {
      "cell_type": "markdown",
      "metadata": {
        "id": "NQWvNsPseSdj"
      },
      "source": [
        "## Final test on the test Dataset"
      ]
    },
    {
      "cell_type": "code",
      "metadata": {
        "id": "bVa1mULOeSdl"
      },
      "source": [
        "model = load_model(model_path)"
      ],
      "execution_count": 27,
      "outputs": []
    },
    {
      "cell_type": "markdown",
      "metadata": {
        "id": "XkuwLmLUozYh"
      },
      "source": [
        "Apply the same preprocessing on the images as for validation dataset"
      ]
    },
    {
      "cell_type": "code",
      "metadata": {
        "id": "6gHBUIT1eSdu"
      },
      "source": [
        "test_datagen = ImageDataGenerator(preprocessing_function=preprocess_input_vgg)"
      ],
      "execution_count": 28,
      "outputs": []
    },
    {
      "cell_type": "markdown",
      "metadata": {
        "id": "XYvsmjhvpAQX"
      },
      "source": [
        "Realize the prediction"
      ]
    },
    {
      "cell_type": "code",
      "metadata": {
        "id": "u43VYZXgeSdw",
        "colab": {
          "base_uri": "https://localhost:8080/"
        },
        "outputId": "a4b15d55-4751-4637-ad22-2f80311669f1"
      },
      "source": [
        "test_generator = test_datagen.flow_from_directory(\n",
        "        test_dir,\n",
        "        target_size=image_size,\n",
        "        shuffle = False,\n",
        "        class_mode='categorical',\n",
        "        batch_size=1)\n",
        "\n",
        "filenames = test_generator.filenames\n",
        "nb_samples = len(filenames)\n",
        "\n",
        "predict = model.predict(test_generator,steps=nb_samples)"
      ],
      "execution_count": 29,
      "outputs": [
        {
          "output_type": "stream",
          "name": "stdout",
          "text": [
            "Found 185 images belonging to 3 classes.\n",
            "185/185 [==============================] - 3s 8ms/step\n"
          ]
        }
      ]
    },
    {
      "cell_type": "markdown",
      "metadata": {
        "id": "dbDXkFyCpH4V"
      },
      "source": [
        "The prediction has been done for 185 images"
      ]
    },
    {
      "cell_type": "markdown",
      "metadata": {
        "id": "mYog3wLupaST"
      },
      "source": [
        "**See the result of the prediction**"
      ]
    },
    {
      "cell_type": "code",
      "metadata": {
        "id": "H2_BVlX-pflo"
      },
      "source": [
        "def show_classification_confusion_matrix(y_valid,y_fit,list_classes):\n",
        "  print(classification_report(y_valid, y_fit,\n",
        "                            target_names = list_classes))\n",
        "  mat = confusion_matrix(y_valid, y_fit)\n",
        "  sns.heatmap(mat.T, square=True, annot=True, fmt='d', cbar=False,\n",
        "            xticklabels=list_classes,\n",
        "            yticklabels=list_classes)\n",
        "  plt.xlabel('true label')\n",
        "  plt.ylabel('predicted label')\n"
      ],
      "execution_count": 30,
      "outputs": []
    },
    {
      "cell_type": "code",
      "metadata": {
        "id": "kK1zDpFteSdy",
        "colab": {
          "base_uri": "https://localhost:8080/",
          "height": 747
        },
        "outputId": "8ad634bb-bc4d-4a3d-9cce-96e318dabf91"
      },
      "source": [
        "# choose the higher probability as the best prediction\n",
        "y_pred = np.argmax(predict, axis=1)\n",
        "classes = [\"{:02d}\".format(i) for i in range(1, 4)]\n",
        "\n",
        "show_classification_confusion_matrix(test_generator.classes,y_pred,classes)"
      ],
      "execution_count": 31,
      "outputs": [
        {
          "output_type": "stream",
          "name": "stdout",
          "text": [
            "              precision    recall  f1-score   support\n",
            "\n",
            "          01       0.38      1.00      0.55        70\n",
            "          02       0.00      0.00      0.00        80\n",
            "          03       0.00      0.00      0.00        35\n",
            "\n",
            "    accuracy                           0.38       185\n",
            "   macro avg       0.13      0.33      0.18       185\n",
            "weighted avg       0.14      0.38      0.21       185\n",
            "\n"
          ]
        },
        {
          "output_type": "stream",
          "name": "stderr",
          "text": [
            "/usr/local/lib/python3.10/dist-packages/sklearn/metrics/_classification.py:1344: UndefinedMetricWarning: Precision and F-score are ill-defined and being set to 0.0 in labels with no predicted samples. Use `zero_division` parameter to control this behavior.\n",
            "  _warn_prf(average, modifier, msg_start, len(result))\n",
            "/usr/local/lib/python3.10/dist-packages/sklearn/metrics/_classification.py:1344: UndefinedMetricWarning: Precision and F-score are ill-defined and being set to 0.0 in labels with no predicted samples. Use `zero_division` parameter to control this behavior.\n",
            "  _warn_prf(average, modifier, msg_start, len(result))\n",
            "/usr/local/lib/python3.10/dist-packages/sklearn/metrics/_classification.py:1344: UndefinedMetricWarning: Precision and F-score are ill-defined and being set to 0.0 in labels with no predicted samples. Use `zero_division` parameter to control this behavior.\n",
            "  _warn_prf(average, modifier, msg_start, len(result))\n"
          ]
        },
        {
          "output_type": "display_data",
          "data": {
            "text/plain": [
              "<Figure size 640x480 with 1 Axes>"
            ],
            "image/png": "[encoded data removed]"
          },
          "metadata": {}
        }
      ]
    },
    {
      "cell_type": "markdown",
      "metadata": {
        "id": "xeIo27TyqazC"
      },
      "source": [
        "**All the images has been correctly predicted**\n",
        "\n",
        "**The model is kept and will be use for the web application**"
      ]
    },
    {
      "cell_type": "markdown",
      "metadata": {
        "id": "t3vEgReKqyUX"
      },
      "source": [
        "## Store the model file on a google account"
      ]
    },
    {
      "cell_type": "code",
      "metadata": {
        "id": "vU8KDPZGqoOo",
        "colab": {
          "base_uri": "https://localhost:8080/"
        },
        "outputId": "5fe188f1-88d5-4dc5-afa3-344b79b34370"
      },
      "source": [
        "from google.colab import drive\n",
        "drive.mount('/content/gdrive')"
      ],
      "execution_count": 32,
      "outputs": [
        {
          "output_type": "stream",
          "name": "stdout",
          "text": [
            "Mounted at /content/gdrive\n"
          ]
        }
      ]
    },
    {
      "cell_type": "code",
      "metadata": {
        "id": "ArDwLMxzrBgO"
      },
      "source": [
        "%cp $model_path ../../../gdrive/'My Drive'"
      ],
      "execution_count": 33,
      "outputs": []
    }
  ]
}